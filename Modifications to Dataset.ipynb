{
 "cells": [
  {
   "cell_type": "code",
   "execution_count": 71,
   "metadata": {},
   "outputs": [
    {
     "data": {
      "text/html": [
       "<style>.container { width:97% !important; }</style>"
      ],
      "text/plain": [
       "<IPython.core.display.HTML object>"
      ]
     },
     "metadata": {},
     "output_type": "display_data"
    }
   ],
   "source": [
    "from IPython.core.display import display, HTML\n",
    "display(HTML(\"<style>.container { width:97% !important; }</style>\"))"
   ]
  },
  {
   "cell_type": "code",
   "execution_count": 72,
   "metadata": {},
   "outputs": [
    {
     "name": "stderr",
     "output_type": "stream",
     "text": [
      "C:\\Users\\mikha\\anaconda3\\lib\\site-packages\\IPython\\core\\interactiveshell.py:3063: DtypeWarning: Columns (19,20,21,22,23,24,25,34) have mixed types.Specify dtype option on import or set low_memory=False.\n",
      "  interactivity=interactivity, compiler=compiler, result=result)\n"
     ]
    }
   ],
   "source": [
    "import pandas as pd\n",
    "import numpy as np\n",
    "\n",
    "df = pd.read_csv(r\"C:\\Users\\mikha\\Dropbox\\mikhael_misc\\Projects\\Policing Thesis\\OG Traffic Violations.csv\")"
   ]
  },
  {
   "cell_type": "markdown",
   "metadata": {},
   "source": [
    "# Functions"
   ]
  },
  {
   "cell_type": "markdown",
   "metadata": {
    "heading_collapsed": true
   },
   "source": [
    "## Homogenize Entries\n",
    "\n",
    "Purpose of this function is explained in Dummy Variables, Alcohol section (3.1.1)"
   ]
  },
  {
   "cell_type": "code",
   "execution_count": 73,
   "metadata": {
    "hidden": true
   },
   "outputs": [],
   "source": [
    "def homogenize_entries(dataframe, var: str, desired_value, to_return) -> list:\n",
    "    \"\"\"\n",
    "    \n",
    "    df[var] == homogenize_entries(df, 'Alcohol', 1) will make all citations of a stop have dataframe['Alcohol']==1 \n",
    "    if ANY of them already have that.\n",
    "    \n",
    "    var == column in dataframe\n",
    "    \n",
    "    *DEPRECATED*: default == default entry (usually \"no\")\n",
    "    \n",
    "    desired_value == atypical entry (usually \"yes\")\n",
    "    \n",
    "    to_return == new value to return\n",
    "    \"\"\"\n",
    "    \n",
    "    \n",
    "    index_dict = {ind:0 for ind in dataframe.index}\n",
    "    for x in list(zip(dataframe.index,dataframe[var])):\n",
    "        if x[1]==desired_value:\n",
    "            index_dict[x[0]] = 1\n",
    "    \n",
    "    desired_value_col = list(dataframe[var])\n",
    "    \n",
    "    for i, x in enumerate(list(zip(dataframe.index,desired_value_col))):\n",
    "        if index_dict[x[0]]==1:\n",
    "            desired_value_col[i] = to_return\n",
    "        \n",
    "    return desired_value_col"
   ]
  },
  {
   "cell_type": "markdown",
   "metadata": {
    "heading_collapsed": true
   },
   "source": [
    "## Create Dummy Vars"
   ]
  },
  {
   "cell_type": "code",
   "execution_count": 74,
   "metadata": {
    "hidden": true
   },
   "outputs": [],
   "source": [
    "def create_dummy_vars(dataframe, var):\n",
    "    \"\"\"\n",
    "    df = create_dummy_vars(df, var)\n",
    "    \n",
    "    Horizontally concatenates boolean dummy columns to df\n",
    "    \"\"\"\n",
    "    dummy_df = pd.get_dummies(dataframe[var])\n",
    "    \n",
    "    dummy_df.columns =  [col + ' - (D_' + var + ')' for col in dummy_df.columns]\n",
    "    \n",
    "    return pd.concat([dataframe, dummy_df], axis=1)"
   ]
  },
  {
   "cell_type": "markdown",
   "metadata": {},
   "source": [
    "# New Variables"
   ]
  },
  {
   "cell_type": "markdown",
   "metadata": {
    "heading_collapsed": true
   },
   "source": [
    "## Misc"
   ]
  },
  {
   "cell_type": "markdown",
   "metadata": {
    "heading_collapsed": true,
    "hidden": true
   },
   "source": [
    "### New (genuinely) Unique ID"
   ]
  },
  {
   "cell_type": "code",
   "execution_count": 75,
   "metadata": {
    "hidden": true
   },
   "outputs": [],
   "source": [
    "df.insert(0, 'Unique Stop ID', [x[0]+x[1]+x[2] for x in zip(df['SeqID'], df['Date Of Stop'], df['Time Of Stop'])])\n",
    "df = df.sort_values(by=['Date Of Stop', 'Time Of Stop', 'Unique Stop ID'])\n",
    "df.set_index('Unique Stop ID', inplace=True)"
   ]
  },
  {
   "cell_type": "markdown",
   "metadata": {
    "heading_collapsed": true,
    "hidden": true
   },
   "source": [
    "### Total Citations"
   ]
  },
  {
   "cell_type": "code",
   "execution_count": 76,
   "metadata": {
    "hidden": true
   },
   "outputs": [],
   "source": [
    "citation_counting_dict = {ID: 0 for ID in df.index}\n",
    "\n",
    "for i, ID in enumerate(df.index):\n",
    "    if df['Violation Type'].iloc[i] == 'Citation':\n",
    "        citation_counting_dict[ID] += 1    \n",
    "\n",
    "df.insert(3, 'Number of Citations', [citation_counting_dict[ID] for ID in df.index])"
   ]
  },
  {
   "cell_type": "markdown",
   "metadata": {
    "heading_collapsed": true,
    "hidden": true
   },
   "source": [
    "### Total Write-Ups\n",
    "\n",
    "A write-up is equivalent to a row/observation of the original dataset.\n",
    "\\\n",
    "\n",
    "In other words, any *recorded* stop is a write-up - whether that stop resulted in a warning, citation, repair-order, or anything else."
   ]
  },
  {
   "cell_type": "code",
   "execution_count": 77,
   "metadata": {
    "hidden": true
   },
   "outputs": [],
   "source": [
    "writeup_counting_dict = {ID: 0 for ID in df.index}\n",
    "\n",
    "for i, ID in enumerate(df.index):\n",
    "    writeup_counting_dict[ID] += 1    \n",
    "\n",
    "df.insert(3, 'Number of writeups', [writeup_counting_dict[ID] for ID in df.index])"
   ]
  },
  {
   "cell_type": "markdown",
   "metadata": {
    "heading_collapsed": true,
    "hidden": true
   },
   "source": [
    "### Car Age"
   ]
  },
  {
   "cell_type": "code",
   "execution_count": 78,
   "metadata": {
    "hidden": true
   },
   "outputs": [],
   "source": [
    "year_of_stop=[int(x[-4:]) for x in df['Date Of Stop']]\n",
    "\n",
    "car_year = []\n",
    "for x in df['Year']:\n",
    "    try:\n",
    "        car_year.append(int(x))\n",
    "    except:\n",
    "        car_year.append(np.nan)\n",
    "\n",
    "def subtract(a,b):\n",
    "    try:\n",
    "        return a-b\n",
    "    except:\n",
    "        return np.nan\n",
    "\n",
    "df['Car Age'] = [subtract(x[0], x[1]) for x in zip(year_of_stop, car_year)]"
   ]
  },
  {
   "cell_type": "markdown",
   "metadata": {
    "heading_collapsed": true,
    "hidden": true
   },
   "source": [
    "### Speed Parsing"
   ]
  },
  {
   "cell_type": "code",
   "execution_count": 79,
   "metadata": {
    "hidden": true,
    "scrolled": true
   },
   "outputs": [],
   "source": [
    "def speed_parser(string):\n",
    "    if 'mph' in string or 'MPH' in string:\n",
    "        temp_holder = []\n",
    "        for word in string.split():\n",
    "            if word.isdigit():\n",
    "                temp_holder.append(int(word))\n",
    "        if len(temp_holder) == 2:\n",
    "            return sorted(temp_holder)\n",
    "        elif len(temp_holder) == 1:\n",
    "            return [temp_holder[0], np.nan]\n",
    "        else:\n",
    "            return [np.nan, np.nan]\n",
    "    else:\n",
    "        return [np.nan, np.nan]\n",
    "\n",
    "\n",
    "Speed_Limit = [np.nan] * len(df)\n",
    "Driving_Speed = [np.nan] * len(df)\n",
    "Speed_over_posted_limit = [np.nan] * len(df)\n",
    "\n",
    "for index, x in enumerate(df['Description']):\n",
    "    if type(x) == str:\n",
    "        temp = speed_parser(x)\n",
    "        Speed_Limit[index] = temp[0]\n",
    "        Driving_Speed[index] = temp[1]\n",
    "        if Driving_Speed[index] != np.nan:\n",
    "            Speed_over_posted_limit[index] = Driving_Speed[index]-Speed_Limit[index]\n",
    "        else:\n",
    "            Speed_over_posted_limit[index] = np.nan\n",
    "    else:\n",
    "        Speed_over_posted_limit[index] = np.nan\n",
    "        \n",
    "for i,x in enumerate(Speed_over_posted_limit):\n",
    "    if x>100:\n",
    "        Speed_over_posted_limit[i] = np.nan\n",
    "\n",
    "        \n",
    "        \n",
    "df.insert(5, 'Speed Limit', Speed_Limit)\n",
    "\n",
    "df.insert(6, 'Driving Speed', Driving_Speed)\n",
    "\n",
    "df.insert(7, 'Speed Over Posted Limit', Speed_over_posted_limit)"
   ]
  },
  {
   "cell_type": "markdown",
   "metadata": {
    "heading_collapsed": true,
    "hidden": true
   },
   "source": [
    "### Cited Speed Modified (or not)"
   ]
  },
  {
   "cell_type": "code",
   "execution_count": 80,
   "metadata": {
    "hidden": true,
    "scrolled": true
   },
   "outputs": [],
   "source": [
    "altered = []\n",
    "not_altered = []\n",
    "\n",
    "for x in df['Speed Over Posted Limit']:\n",
    "    if x==9:\n",
    "        altered.append(1)\n",
    "        not_altered.append(0)\n",
    "    elif 10 <= x <= 14:\n",
    "        altered.append(0)\n",
    "        not_altered.append(1)\n",
    "    else:\n",
    "        altered.append(np.nan)\n",
    "        not_altered.append(np.nan)\n",
    "\n",
    "df['Speed Altered'] = altered\n",
    "df['Speed NOT Altered'] = not_altered"
   ]
  },
  {
   "cell_type": "markdown",
   "metadata": {
    "heading_collapsed": true
   },
   "source": [
    "## Dummy Variables"
   ]
  },
  {
   "cell_type": "markdown",
   "metadata": {
    "hidden": true
   },
   "source": [
    "### Alcohol\n",
    "\n",
    "Take the example of a DUI stop that resulted in 15 citations. In this dataset, it might be the case that only 1 of those 15 recorded citations has *df['Alcohol']==\"Yes\"* (and df['Alcohol']==\"No\" for the other 14).  \n",
    "\\\n",
    "In reality, that entire stop is alcohol-related, so df['Alcohol'] should equal \"Yes\" for all entries pertaining to this stop.\n",
    "\\\n",
    "\n",
    "I call this *homogenizing* an entry (see the function *homogenize_entries(df, var, desired_value, to_return)*)"
   ]
  },
  {
   "cell_type": "markdown",
   "metadata": {
    "hidden": true
   },
   "source": [
    "#### Fixing df['Alcohol'] and df['Description'] discrepancies\n",
    "\n",
    "Sometimes *df['Alcohol'].iloc[i]==\"No\"* but the word \"alcohol\" is mentioned in *df['Description'].iloc[i]*.\n",
    "\n",
    "\\\n",
    "When this happens, I assign *df['Alcohol'].iloc[i]=\"Yes\"*"
   ]
  },
  {
   "cell_type": "code",
   "execution_count": 81,
   "metadata": {
    "hidden": true
   },
   "outputs": [
    {
     "name": "stderr",
     "output_type": "stream",
     "text": [
      "  0%|                                                                                      | 0/1675856 [00:00<?, ?it/s]C:\\Users\\mikha\\anaconda3\\lib\\site-packages\\pandas\\core\\indexing.py:670: SettingWithCopyWarning: \n",
      "A value is trying to be set on a copy of a slice from a DataFrame\n",
      "\n",
      "See the caveats in the documentation: https://pandas.pydata.org/pandas-docs/stable/user_guide/indexing.html#returning-a-view-versus-a-copy\n",
      "  self._setitem_with_indexer(indexer, value)\n",
      "100%|██████████████████████████████████████████████████████████████████████| 1675856/1675856 [03:44<00:00, 7459.93it/s]\n"
     ]
    }
   ],
   "source": [
    "from tqdm import tqdm\n",
    "\n",
    "for i in tqdm(range(len(df))):\n",
    "    if df['Alcohol'].iloc[i] == 'No':\n",
    "        if type(df['Description'].iloc[i]) == str:\n",
    "            if 'ALCOHOL' in df['Description'].iloc[i]:\n",
    "                df['Alcohol'].iloc[i] = 'Yes'"
   ]
  },
  {
   "cell_type": "markdown",
   "metadata": {
    "hidden": true
   },
   "source": [
    "#### Homogenizing Entries"
   ]
  },
  {
   "cell_type": "code",
   "execution_count": 82,
   "metadata": {
    "hidden": true,
    "scrolled": true
   },
   "outputs": [],
   "source": [
    "df['Alcohol'] = homogenize_entries(df, 'Alcohol', 'Yes', 1)\n",
    "df['Alcohol'] = df['Alcohol'].replace(to_replace='No', value=0)"
   ]
  },
  {
   "cell_type": "markdown",
   "metadata": {
    "hidden": true
   },
   "source": [
    "### Simple Binary Dummy Assignment"
   ]
  },
  {
   "cell_type": "code",
   "execution_count": 83,
   "metadata": {
    "hidden": true,
    "scrolled": true
   },
   "outputs": [],
   "source": [
    "DUMMY_VARS = ['Accident','Belts', 'Commercial Vehicle', 'HAZMAT',\n",
    "              'Work Zone', 'Personal Injury', 'Property Damage']\n",
    "\n",
    "\n",
    "dummy_dict = {'No':0, 'Yes':1, np.nan:np.nan}\n",
    "\n",
    "for var in DUMMY_VARS:\n",
    "#     print(var)\n",
    "    df[var] = [dummy_dict[x] for x in df[var]]\n",
    "    \n",
    "    df[var] = homogenize_entries(df, var, 1, 1)"
   ]
  },
  {
   "cell_type": "markdown",
   "metadata": {
    "hidden": true
   },
   "source": [
    "### Non-Binary Dummy Assignment"
   ]
  },
  {
   "cell_type": "code",
   "execution_count": 84,
   "metadata": {
    "hidden": true,
    "scrolled": true
   },
   "outputs": [],
   "source": [
    "#Might want to add more vars to this\n",
    "MULTI_CAT_DUMMY_VARS = ['Race', 'SubAgency', 'Violation Type', 'Search Conducted', 'Search Outcome']\n",
    "\n",
    "for var in MULTI_CAT_DUMMY_VARS:\n",
    "    df = create_dummy_vars(df, var)\n",
    "    \n",
    "# df['Search Outcome']"
   ]
  },
  {
   "cell_type": "markdown",
   "metadata": {
    "heading_collapsed": true
   },
   "source": [
    "## Special Cases"
   ]
  },
  {
   "cell_type": "markdown",
   "metadata": {
    "heading_collapsed": true,
    "hidden": true
   },
   "source": [
    "### Gender"
   ]
  },
  {
   "cell_type": "code",
   "execution_count": 85,
   "metadata": {
    "hidden": true
   },
   "outputs": [],
   "source": [
    "gender_dummy_dict = {\"F\":0, \"M\":1, \"U\":np.nan} #these are all 3 gender values in the dataset\n",
    "\n",
    "df['Male'] = [gender_dummy_dict[x] for x in df['Gender']]"
   ]
  },
  {
   "cell_type": "markdown",
   "metadata": {
    "hidden": true
   },
   "source": [
    "### Driver's State, Driver's License State"
   ]
  },
  {
   "cell_type": "code",
   "execution_count": 86,
   "metadata": {
    "hidden": true
   },
   "outputs": [],
   "source": [
    "# def driver_state_dummifier(x):\n",
    "#     return x!='MD'\n",
    "\n",
    "df['Driver State != MD'] = [x != \"MD\" for x in df['Driver State']]\n",
    "df['DL State != MD'] = [x != \"MD\" for x in df['DL State']]"
   ]
  },
  {
   "cell_type": "markdown",
   "metadata": {},
   "source": [
    "# Homogenize Remaining variables"
   ]
  },
  {
   "cell_type": "code",
   "execution_count": 87,
   "metadata": {},
   "outputs": [],
   "source": [
    "df['Arrest - (D_Search Outcome)'] = homogenize_entries(df, 'Arrest - (D_Search Outcome)', 1, 1)"
   ]
  },
  {
   "cell_type": "markdown",
   "metadata": {},
   "source": [
    "# Deletions"
   ]
  },
  {
   "cell_type": "code",
   "execution_count": 88,
   "metadata": {
    "scrolled": true
   },
   "outputs": [],
   "source": [
    "del df['SeqID']\n",
    "del df['Geolocation']\n",
    "del df['Year']\n",
    "del df['Gender']"
   ]
  },
  {
   "cell_type": "markdown",
   "metadata": {},
   "source": [
    "# Screening Outliers (not done yet)\n",
    "\n",
    "Will see if necessary"
   ]
  },
  {
   "cell_type": "markdown",
   "metadata": {},
   "source": [
    "# Save Dataset"
   ]
  },
  {
   "cell_type": "code",
   "execution_count": 89,
   "metadata": {},
   "outputs": [],
   "source": [
    "df.to_csv(r\"Modified Dataset.csv\", index=True)"
   ]
  },
  {
   "cell_type": "code",
   "execution_count": 90,
   "metadata": {},
   "outputs": [
    {
     "data": {
      "text/plain": [
       "'\\nImport the dataset with the following command to have the unique stop id as the new index\\n'"
      ]
     },
     "execution_count": 90,
     "metadata": {},
     "output_type": "execute_result"
    }
   ],
   "source": [
    "\"\"\"\n",
    "Import the dataset with the following command to have the unique stop id as the new index\n",
    "\"\"\"\n",
    "\n",
    "# df = pd.read_csv(r\"Modified Dataset.csv\", index_col=(0,1))"
   ]
  }
 ],
 "metadata": {
  "kernelspec": {
   "display_name": "Python 3",
   "language": "python",
   "name": "python3"
  },
  "language_info": {
   "codemirror_mode": {
    "name": "ipython",
    "version": 3
   },
   "file_extension": ".py",
   "mimetype": "text/x-python",
   "name": "python",
   "nbconvert_exporter": "python",
   "pygments_lexer": "ipython3",
   "version": "3.7.6"
  },
  "latex_envs": {
   "LaTeX_envs_menu_present": true,
   "autoclose": false,
   "autocomplete": true,
   "bibliofile": "biblio.bib",
   "cite_by": "apalike",
   "current_citInitial": 1,
   "eqLabelWithNumbers": true,
   "eqNumInitial": 1,
   "hotkeys": {
    "equation": "Ctrl-E",
    "itemize": "Ctrl-I"
   },
   "labels_anchors": false,
   "latex_user_defs": false,
   "report_style_numbering": false,
   "user_envs_cfg": false
  },
  "toc": {
   "base_numbering": 1,
   "nav_menu": {},
   "number_sections": true,
   "sideBar": true,
   "skip_h1_title": false,
   "title_cell": "Table of Contents",
   "title_sidebar": "Contents",
   "toc_cell": false,
   "toc_position": {},
   "toc_section_display": true,
   "toc_window_display": false
  },
  "varInspector": {
   "cols": {
    "lenName": 16,
    "lenType": 16,
    "lenVar": 40
   },
   "kernels_config": {
    "python": {
     "delete_cmd_postfix": "",
     "delete_cmd_prefix": "del ",
     "library": "var_list.py",
     "varRefreshCmd": "print(var_dic_list())"
    },
    "r": {
     "delete_cmd_postfix": ") ",
     "delete_cmd_prefix": "rm(",
     "library": "var_list.r",
     "varRefreshCmd": "cat(var_dic_list()) "
    }
   },
   "types_to_exclude": [
    "module",
    "function",
    "builtin_function_or_method",
    "instance",
    "_Feature"
   ],
   "window_display": false
  }
 },
 "nbformat": 4,
 "nbformat_minor": 4
}
