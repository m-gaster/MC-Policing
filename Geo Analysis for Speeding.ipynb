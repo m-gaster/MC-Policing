{
 "cells": [
  {
   "cell_type": "code",
   "execution_count": 17,
   "metadata": {},
   "outputs": [
    {
     "data": {
      "text/html": [
       "<style>.container { width:97% !important; }</style>"
      ],
      "text/plain": [
       "<IPython.core.display.HTML object>"
      ]
     },
     "metadata": {},
     "output_type": "display_data"
    }
   ],
   "source": [
    "from IPython.core.display import display, HTML\n",
    "display(HTML(\"<style>.container { width:97% !important; }</style>\"))"
   ]
  },
  {
   "cell_type": "code",
   "execution_count": 18,
   "metadata": {},
   "outputs": [],
   "source": [
    "import pandas as pd\n",
    "pd.set_option('display.max_columns', None)\n",
    "import numpy as np\n",
    "import itertools\n",
    "from tqdm import tqdm"
   ]
  },
  {
   "cell_type": "code",
   "execution_count": 19,
   "metadata": {},
   "outputs": [],
   "source": [
    "df = pd.read_csv(r\"C:\\Users\\mikha\\Dropbox\\mikhael_misc\\Projects\\Policing Thesis\\Modified Dataset.csv\")"
   ]
  },
  {
   "cell_type": "code",
   "execution_count": 20,
   "metadata": {},
   "outputs": [],
   "source": [
    "race_set = {'ASIAN', 'BLACK', 'HISPANIC', 'NATIVE AMERICAN', 'OTHER', 'WHITE'}\n",
    "race_set_w_total = {'ASIAN', 'BLACK', 'HISPANIC', 'NATIVE AMERICAN', 'OTHER', 'TOTAL', 'WHITE'}"
   ]
  },
  {
   "cell_type": "markdown",
   "metadata": {},
   "source": [
    "# *coordinates_dict*\n",
    "\n",
    "*coordinates_dict[ longitude_i ][ latitude_j ][ FIELD** ][ race ] = information for that area*\n",
    "\n",
    "** \"field\" equals things like \"Number of Charges @ 9 MPH\", \"Average Speed NOT in 9,14 MPH\", etc"
   ]
  },
  {
   "cell_type": "markdown",
   "metadata": {},
   "source": [
    "## Set up *coordinates_dict*"
   ]
  },
  {
   "cell_type": "code",
   "execution_count": 21,
   "metadata": {
    "scrolled": true
   },
   "outputs": [
    {
     "name": "stdout",
     "output_type": "stream",
     "text": [
      "total # cells ~  78\n"
     ]
    }
   ],
   "source": [
    "CELL_WIDTH = 0.1\n",
    "DECIMAL_PLACES = 2\n",
    "\n",
    "MIN_LONGITUDE = -77.6\n",
    "MAX_LONGITUDE = -76.8\n",
    "\n",
    "MIN_LATITUDE = 38.92\n",
    "MAX_LATITUDE = 39.5\n",
    "\n",
    "def rounder(x):#rounds to nearest CELL_WIDTH; X decimal places\n",
    "    return np.around(CELL_WIDTH * round(x/CELL_WIDTH), DECIMAL_PLACES)\n",
    "\n",
    "TOTAL_CELLS = round((((MIN_LONGITUDE-CELL_WIDTH)-(MAX_LONGITUDE+CELL_WIDTH))/CELL_WIDTH)*(((MIN_LATITUDE-CELL_WIDTH)-(MAX_LATITUDE+CELL_WIDTH))/CELL_WIDTH))\n",
    "print('total # cells ~ ', TOTAL_CELLS)\n",
    "\n",
    "coordinates_dict = {}\n",
    "for x in np.arange(MIN_LONGITUDE-CELL_WIDTH, MAX_LONGITUDE+CELL_WIDTH, CELL_WIDTH):\n",
    "    coordinates_dict[rounder(np.around(x,DECIMAL_PLACES))] = {}\n",
    "\n",
    "for x in coordinates_dict:\n",
    "    for y in np.arange(MIN_LATITUDE-CELL_WIDTH, MAX_LATITUDE+CELL_WIDTH, CELL_WIDTH):\n",
    "        coordinates_dict[x][rounder(np.around(y,DECIMAL_PLACES))] = {\"All Speeds Over Limit\": {race: [] for race in race_set_w_total},\n",
    "                                               \"Number of Speeding Charges\":{race: 0 for race in race_set_w_total},\n",
    "                                               \"Average Speed NOT in 9,14 MPH\": {race: 0 for race in race_set_w_total},\n",
    "                                               \n",
    "                                                 \"Number of Charges @ 9 MPH\": {race: 0 for race in race_set_w_total},\n",
    "                                                \"Number of Charges in 9,14 MPH\": {race: 0 for race in race_set_w_total},\n",
    "                                                 \"Number of Charges in 10,14 MPH\": {race: 0 for race in race_set_w_total},\n",
    "                                                \"Number of Charges NOT in 9,14 MPH\": {race: 0 for race in race_set_w_total}, \n",
    "                                                \n",
    "                                                 \"Percent of Own Race's Charges @ 9 MPH\": {race: 0 for race in race_set_w_total},\n",
    "                                                \"Percent of Own Race's Charges in 9,14 MPH\": {race: 0 for race in race_set_w_total},\n",
    "                                                 \"Percent of Own Race's Charges in 10,14 MPH\": {race: 0 for race in race_set_w_total},\n",
    "                                                \"Percent of Own Race's Charges NOT in 9,14 MPH\": {race: 0 for race in race_set_w_total}, \n",
    "\n",
    "                                                \"Percent of Charges that were CHANGED\": {race: 0 for race in race_set_w_total}, \n",
    "                                                \"Percent of Charges that were NOT CHANGED\": {race: 0 for race in race_set_w_total}, \n",
    "                                                                    \n",
    "#                                                  \"As Percent of All Races' Charges @ 9 MPH\" : {race: 0 for race in race_set_w_total},\n",
    "#                                                 \"As Percent of All Races' in 9,14 MPH\": {race: 0 for race in race_set_w_total},\n",
    "#                                                  \"As Percent of All Races in 10,14 MPH\": {race: 0 for race in race_set_w_total},\n",
    "#                                                 \"As Percent of All Races in 9,14 MPH\": {race: 0 for race in race_set_w_total},                                                                      \n",
    "                                                \n",
    "                                                \"Number of Citations for Each Stop\": {race: [] for race in race_set_w_total},\n",
    "                                                \"Racial Composition\": {race: 0 for race in race_set_w_total}}\n",
    "\n",
    "        \n",
    "        \n"
   ]
  },
  {
   "cell_type": "markdown",
   "metadata": {},
   "source": [
    "### Def Rounding Function"
   ]
  },
  {
   "cell_type": "code",
   "execution_count": 22,
   "metadata": {
    "code_folding": []
   },
   "outputs": [],
   "source": [
    "def rounder(x):\n",
    "    \"\"\"\n",
    "    Rounds to nearest CELL_WIDTH; decimal places\n",
    "    \"\"\"\n",
    "    \n",
    "    return np.around(CELL_WIDTH * round(x/CELL_WIDTH), DECIMAL_PLACES)"
   ]
  },
  {
   "cell_type": "markdown",
   "metadata": {
    "heading_collapsed": true
   },
   "source": [
    "## Fill *coordinates_dict*"
   ]
  },
  {
   "cell_type": "code",
   "execution_count": 23,
   "metadata": {
    "hidden": true,
    "scrolled": true
   },
   "outputs": [],
   "source": [
    "# zipped_vars=list(zip(df['Longitude'], df['Latitude'], df['Race'], df['Speed Over Posted Limit'], df['Number of Citations']))\n",
    "\n",
    "for i,x in enumerate(list(zip(df['Longitude'], df['Latitude'], df['Race'], df['Speed Over Posted Limit'], df['Number of Citations']))):\n",
    "        if MIN_LONGITUDE <= x[0] <= MAX_LONGITUDE: #-77.6 <= x <= -76.8\n",
    "            if MIN_LATITUDE <= x[1] <= MAX_LATITUDE:\n",
    "\n",
    "                coordinates_dict[ rounder(x[0]) ][ rounder(x[1]) ][ \"Racial Composition\" ][ x[2] ] += 1\n",
    "                coordinates_dict[ rounder(x[0]) ][ rounder(x[1]) ][ \"Racial Composition\" ][ 'TOTAL' ] += 1\n",
    "\n",
    "                \n",
    "                if not np.isnan(x[3]): # if df[\"Speed Over Posted Limit\"].iloc[i] != np.nan\n",
    "                    \n",
    "                    coordinates_dict[ rounder(x[0]) ][ rounder(x[1]) ][ \"Number of Speeding Charges\" ][ x[2] ] += 1\n",
    "                    coordinates_dict[ rounder(x[0]) ][ rounder(x[1]) ][ \"Number of Speeding Charges\" ][ 'TOTAL' ] += 1\n",
    "\n",
    "                    coordinates_dict[ rounder(x[0]) ][ rounder(x[1]) ][ \"All Speeds Over Limit\" ][ x[2] ].append(x[3])\n",
    "                    coordinates_dict[ rounder(x[0]) ][ rounder(x[1]) ][ \"All Speeds Over Limit\" ]['TOTAL'].append(x[3])\n",
    "\n",
    "                    coordinates_dict[ rounder(x[0]) ][ rounder(x[1]) ][ \"Number of Speeding Charges\" ][ x[2] ] += 1\n",
    "                    coordinates_dict[ rounder(x[0]) ][ rounder(x[1]) ][ \"Number of Speeding Charges\" ][ 'TOTAL' ] +=1\n",
    "\n",
    "                    coordinates_dict[ rounder(x[0]) ][ rounder(x[1]) ][ \"Number of Citations for Each Stop\" ][ x[2] ].append(x[4])\n",
    "                    coordinates_dict[ rounder(x[0]) ][ rounder(x[1]) ][ \"Number of Citations for Each Stop\" ][ 'TOTAL' ].append(x[4])\n",
    "\n",
    "\n",
    "                    if x[3] == 9:\n",
    "                        coordinates_dict[ rounder(x[0]) ][ rounder(x[1]) ][ \"Number of Charges @ 9 MPH\" ][ x[2] ] += 1\n",
    "                        coordinates_dict[ rounder(x[0]) ][ rounder(x[1]) ][ \"Number of Charges @ 9 MPH\" ][ 'TOTAL' ] += 1\n",
    "\n",
    "                    if 9 <= x[3] <= 14:\n",
    "                        coordinates_dict[ rounder(x[0]) ][ rounder(x[1]) ][ \"Number of Charges in 9,14 MPH\" ][ x[2] ] += 1\n",
    "                        coordinates_dict[ rounder(x[0]) ][ rounder(x[1]) ][ \"Number of Charges in 9,14 MPH\" ][ 'TOTAL' ] += 1\n",
    "\n",
    "                    if 10 <= x[3] <= 14:\n",
    "                        coordinates_dict[ rounder(x[0]) ][ rounder(x[1]) ][ \"Number of Charges in 10,14 MPH\" ][ x[2] ] += 1\n",
    "                        coordinates_dict[ rounder(x[0]) ][ rounder(x[1]) ][ \"Number of Charges in 10,14 MPH\" ][ 'TOTAL' ] += 1\n",
    "                        \n",
    "                    if 9 > x[3] or x[3] > 14:\n",
    "                        coordinates_dict[ rounder(x[0]) ][ rounder(x[1]) ][ \"Number of Charges NOT in 9,14 MPH\" ][ x[2] ] += 1\n",
    "                        coordinates_dict[ rounder(x[0]) ][ rounder(x[1]) ][ \"Number of Charges NOT in 9,14 MPH\" ][ 'TOTAL' ] += 1"
   ]
  },
  {
   "cell_type": "markdown",
   "metadata": {},
   "source": [
    "## Further Modifications to Data"
   ]
  },
  {
   "cell_type": "code",
   "execution_count": 24,
   "metadata": {
    "code_folding": []
   },
   "outputs": [],
   "source": [
    "\"\"\"\n",
    "DO NOT THROW AWAY - THIS IS USED\n",
    "\"\"\"\n",
    "\n",
    "def divide(a,b):\n",
    "    if a!=0 and b!=0:\n",
    "        return (a/b)\n",
    "    else:\n",
    "        return 0\n",
    "\n",
    "\n",
    "for long in coordinates_dict:\n",
    "    for lat in coordinates_dict[long]:\n",
    "        for race in race_set_w_total:\n",
    "            coordinates_dict[long][lat]['Average Speed NOT in 9,14 MPH'][race] = np.mean([x for x in coordinates_dict[long][lat]['All Speeds Over Limit'][race] if x<9 or x>14])\n",
    "            coordinates_dict[long][lat][\"Number of Citations for Each Stop\"][race] = np.mean(coordinates_dict[long][lat][\"Number of Citations for Each Stop\"][race])\n",
    "            \n",
    "            coordinates_dict[long][lat][\"Percent of Own Race's Charges @ 9 MPH\"][race] = divide(coordinates_dict[long][lat][\"Number of Charges @ 9 MPH\"][race], coordinates_dict[long][lat][\"Number of Speeding Charges\"][race])\n",
    "            coordinates_dict[long][lat][\"Percent of Own Race's Charges in 9,14 MPH\"][race] = divide(coordinates_dict[long][lat][\"Number of Charges in 9,14 MPH\"][race], coordinates_dict[long][lat][\"Number of Speeding Charges\"][race])\n",
    "            coordinates_dict[long][lat][\"Percent of Own Race's Charges in 10,14 MPH\"][race] = divide(coordinates_dict[long][lat][\"Number of Charges in 10,14 MPH\"][race], coordinates_dict[long][lat][\"Number of Speeding Charges\"][race])\n",
    "            coordinates_dict[long][lat][\"Percent of Own Race's Charges NOT in 9,14 MPH\"][race] = divide(coordinates_dict[long][lat][\"Number of Charges NOT in 9,14 MPH\"][race], coordinates_dict[long][lat][\"Number of Speeding Charges\"][race])\n",
    "            \n",
    "            coordinates_dict[long][lat][\"Percent of Charges that were CHANGED\"][race] = divide(coordinates_dict[long][lat][\"Number of Charges @ 9 MPH\"][race], coordinates_dict[long][lat][\"Number of Charges in 9,14 MPH\"][race])\n",
    "            coordinates_dict[long][lat][\"Percent of Charges that were NOT CHANGED\"][race] = divide(coordinates_dict[long][lat][\"Number of Charges in 10,14 MPH\"][race], coordinates_dict[long][lat][\"Number of Charges in 9,14 MPH\"][race])\n",
    "                        \n",
    "        for race in race_set:\n",
    "            coordinates_dict[long][lat][\"Racial Composition\"][race] = divide(coordinates_dict[long][lat][\"Racial Composition\"][race], coordinates_dict[long][lat][\"Racial Composition\"]['TOTAL'])\n",
    "                        \n",
    "\n",
    "            \n",
    "#             \"Percent of Own Race's Charges @ 9 MPH\": {race: 0 for race in race_set_w_total},\n",
    "#             \"Percent of Own Race's Charges in 9,14 MPH\": {race: 0 for race in race_set_w_total},\n",
    "#             \"Percent of Own Race's Charges in 10,14 MPH\": {race: 0 for race in race_set_w_total},\n",
    "#             \"Percent of Own Race's Charges NOT in 9,14 MPH\": {race: 0 for race in race_set_w_total}, \n",
    "\n",
    "#             \"As Percent of All Races' Charges @ 9 MPH\" : {race: 0 for race in race_set_w_total},\n",
    "#             \"As Percent of All Races' in 9,14 MPH\": {race: 0 for race in race_set_w_total},\n",
    "#             \"As Percent of All Races in 10,14 MPH\": {race: 0 for race in race_set_w_total},\n",
    "#             \"As Percent of All Races in 9,14 MPH\": {race: 0 for race in race_set_w_total},            \n",
    "                \n",
    "#             \"PERCENT OF CHARGES THAT COULD HAVE BEEN CHANGED\"\n",
    "\n",
    "        "
   ]
  },
  {
   "cell_type": "markdown",
   "metadata": {},
   "source": [
    "# Creating *coordinates_df* out of *coordinates_dict*"
   ]
  },
  {
   "cell_type": "markdown",
   "metadata": {},
   "source": [
    "## Create Longitude, Latitude vectors for *coordinates_df*"
   ]
  },
  {
   "cell_type": "code",
   "execution_count": 25,
   "metadata": {},
   "outputs": [],
   "source": [
    "long_list = [rounder(x) for x in coordinates_dict.keys()]\n",
    "lat_list = [rounder(x) for x in coordinates_dict[rounder(MIN_LONGITUDE)].keys()]\n",
    "\n",
    "long_list_for_df = [[x]*len(lat_list) for x in long_list] # all longitudes repeated N times; N=Number of Latitudinal Entries\n",
    "lat_list_for_df = [lat_list for x in long_list]\n",
    "\n",
    "#flatten lists\n",
    "long_list_for_df = np.array(list(itertools.chain.from_iterable(long_list_for_df)))\n",
    "lat_list_for_df = np.array(list(itertools.chain.from_iterable(lat_list_for_df)))"
   ]
  },
  {
   "cell_type": "markdown",
   "metadata": {},
   "source": [
    "## Assign Values to rows of *coordinates_df*"
   ]
  },
  {
   "cell_type": "code",
   "execution_count": 27,
   "metadata": {
    "scrolled": true
   },
   "outputs": [],
   "source": [
    "coordinates_df = pd.DataFrame({'Longitude':long_list_for_df, 'Latitude':lat_list_for_df})\n",
    "\n",
    "#STILL PUTTING LISTS IN AS ELEMENTS\n",
    "scalar_vars_list = [\n",
    "\"Number of Speeding Charges\",\n",
    "\"Average Speed NOT in 9,14 MPH\",\n",
    "\"Number of Citations for Each Stop\",\n",
    "\"Racial Composition\",\n",
    "\"Percent of Charges that were CHANGED\",\n",
    "\"Percent of Charges that were NOT CHANGED\",\n",
    "\n",
    "#LISTS BELOW\n",
    "\"All Speeds Over Limit\"    \n",
    "]\n",
    "\n",
    "def nanner(a):\n",
    "    \"\"\"\n",
    "    Makes sure np.nan and empty lists don't pass through\n",
    "    \"\"\"\n",
    "    \n",
    "    if type(a) != list:\n",
    "        if np.isnan(a):\n",
    "            return 0\n",
    "        else:\n",
    "            return a\n",
    "    else: \n",
    "        return a\n",
    "\n",
    "# for i, longlat in enumerate(zip(coordinates_df['Longitude'], coordinates_df['Latitude'])):\n",
    "for race in race_set_w_total:\n",
    "    for var in scalar_vars_list:\n",
    "        coordinates_df[race + ' ' + var] = [nanner(coordinates_dict[longlat[0]][longlat[1]][var][race]) for longlat in zip(coordinates_df['Longitude'], coordinates_df['Latitude'])]\n",
    "    \n",
    "    \n"
   ]
  },
  {
   "cell_type": "markdown",
   "metadata": {
    "heading_collapsed": true
   },
   "source": [
    "## Replace 0-Values with *nan*\n",
    "\n",
    "**NOT DOING THIS ANYMORE - REGRESSION DOESN'T ACCEPT NP.NAN**"
   ]
  },
  {
   "cell_type": "code",
   "execution_count": null,
   "metadata": {
    "hidden": true
   },
   "outputs": [],
   "source": [
    "# coordinates_df.replace(0, np.nan, inplace=True)"
   ]
  },
  {
   "cell_type": "markdown",
   "metadata": {},
   "source": [
    "# Link Geo Data to Main DF "
   ]
  },
  {
   "cell_type": "markdown",
   "metadata": {
    "heading_collapsed": true
   },
   "source": [
    "## Create *concat_df* which will be concatenated with original *df*"
   ]
  },
  {
   "cell_type": "code",
   "execution_count": 28,
   "metadata": {
    "hidden": true
   },
   "outputs": [
    {
     "name": "stderr",
     "output_type": "stream",
     "text": [
      "100%|████████████████████████████████████████████████████████████████████████████████████| 7/7 [04:26<00:00, 38.12s/it]\n"
     ]
    }
   ],
   "source": [
    "concat_df = pd.DataFrame({'Longitude':df['Longitude'], 'Latitude':df['Latitude']})\n",
    "\n",
    "#STILL PUTTING LISTS IN AS ELEMENTS\n",
    "scalar_vars_list = [\n",
    "\"Number of Speeding Charges\",\n",
    "\"Average Speed NOT in 9,14 MPH\",\n",
    "\"Number of Citations for Each Stop\",\n",
    "\"Racial Composition\",\n",
    "\"Percent of Charges that were CHANGED\",\n",
    "\"Percent of Charges that were NOT CHANGED\",\n",
    "\n",
    "#LISTS BELOW\n",
    "# \"All Speeds Over Limit\"    \n",
    "]\n",
    "\n",
    "def strong_lat_rounder(x):\n",
    "    \"\"\"\n",
    "    Return rounded latitude IF latitude is inside of Montgomery County; else return np.nan\n",
    "    \"\"\"\n",
    "    if MIN_LATITUDE <= rounder(x) <= MAX_LATITUDE:\n",
    "        return rounder(x)\n",
    "    else:\n",
    "        return np.nan\n",
    "    \n",
    "def strong_lon_rounder(x):\n",
    "    if MIN_LONGITUDE <= rounder(x) <= MAX_LONGITUDE:\n",
    "        return rounder(x)\n",
    "    else:\n",
    "        return np.nan\n",
    "\n",
    "from tqdm import tqdm\n",
    "for race in tqdm(race_set_w_total):\n",
    "    for var in scalar_vars_list:\n",
    "        temp_col = []\n",
    "        for longlatrace in zip(concat_df['Longitude'], concat_df['Latitude'], df['Race'], df['Speed Over Posted Limit']):\n",
    "            if not np.isnan(longlatrace[3]): #if this is a speeding ticket\n",
    "                try:\n",
    "                    temp_col.append(coordinates_dict[strong_lon_rounder(longlatrace[0])][strong_lat_rounder(longlatrace[1])][var][longlatrace[2]])\n",
    "                except:\n",
    "                    temp_col.append(np.nan)\n",
    "            else:\n",
    "                temp_col.append(np.nan)\n",
    "        concat_df['GEO: ' + race + ' ' + var] = temp_col\n",
    "        "
   ]
  },
  {
   "cell_type": "markdown",
   "metadata": {
    "heading_collapsed": true
   },
   "source": [
    "## Merge DataFrames"
   ]
  },
  {
   "cell_type": "code",
   "execution_count": 29,
   "metadata": {
    "hidden": true
   },
   "outputs": [],
   "source": [
    "df = pd.concat([df, concat_df], axis=1, sort=False)\n",
    "\n",
    "df = df[df['Speed Over Posted Limit'] > 0]\n",
    "\n",
    "# del duplicated Long, Lat columns\n",
    "df = df.loc[:,~df.columns.duplicated()]"
   ]
  },
  {
   "cell_type": "code",
   "execution_count": null,
   "metadata": {
    "hidden": true
   },
   "outputs": [],
   "source": [
    "df.head()"
   ]
  },
  {
   "cell_type": "code",
   "execution_count": null,
   "metadata": {
    "hidden": true
   },
   "outputs": [],
   "source": [
    "coordinates_df.corr()"
   ]
  },
  {
   "cell_type": "markdown",
   "metadata": {},
   "source": [
    "# Export"
   ]
  },
  {
   "cell_type": "markdown",
   "metadata": {},
   "source": [
    "Maybe consider naming cells after numberof *non-empty* cells"
   ]
  },
  {
   "cell_type": "code",
   "execution_count": 30,
   "metadata": {},
   "outputs": [],
   "source": [
    "FILENAME_STR = f\"Geo Modified Dataset - {str(len(coordinates_df))} cells - width=={CELL_WIDTH} .csv\"\n",
    "\n",
    "df.to_csv(FILENAME_STR, index=True)"
   ]
  },
  {
   "cell_type": "code",
   "execution_count": 31,
   "metadata": {},
   "outputs": [],
   "source": [
    "FILENAME_STR_2 = f\"Purely Geographical - Speeding Dataset - {str(len(coordinates_df))} cells - width=={CELL_WIDTH} .csv\"\n",
    "\n",
    "coordinates_df.to_csv(FILENAME_STR_2)"
   ]
  },
  {
   "cell_type": "markdown",
   "metadata": {
    "heading_collapsed": true
   },
   "source": [
    "# Prelim Analysis (not done)"
   ]
  },
  {
   "cell_type": "markdown",
   "metadata": {
    "hidden": true
   },
   "source": [
    "### Sample Size per Cell"
   ]
  },
  {
   "cell_type": "code",
   "execution_count": null,
   "metadata": {
    "hidden": true,
    "scrolled": true
   },
   "outputs": [],
   "source": [
    "coordinates_df['TOTAL Number of Speeding Charges'].hist(log=True, bins=100)"
   ]
  },
  {
   "cell_type": "code",
   "execution_count": null,
   "metadata": {
    "hidden": true
   },
   "outputs": [],
   "source": [
    "coordinates_df['TOTAL Number of Speeding Charges'].plot.hist(ylim=(0,100), bins=100) "
   ]
  },
  {
   "cell_type": "markdown",
   "metadata": {
    "hidden": true
   },
   "source": [
    "### Number of Empty Cells"
   ]
  },
  {
   "cell_type": "code",
   "execution_count": null,
   "metadata": {
    "hidden": true
   },
   "outputs": [],
   "source": [
    "print('Percent of Empty Cells == ', sum([1 for x in coordinates_df['TOTAL Number of Speeding Charges'] if x==0])/len(coordinates_df))\n",
    "print(\"Number of Non-Empty Cells == \", sum([1 for x in coordinates_df['TOTAL Number of Speeding Charges'] if x!=0]))"
   ]
  },
  {
   "cell_type": "code",
   "execution_count": null,
   "metadata": {
    "hidden": true,
    "scrolled": false
   },
   "outputs": [],
   "source": [
    "coordinates_df['TOTAL Number of Speeding Charges'].hist(bins=100) "
   ]
  },
  {
   "cell_type": "markdown",
   "metadata": {
    "hidden": true
   },
   "source": [
    "### Weighted Correlation"
   ]
  },
  {
   "cell_type": "code",
   "execution_count": null,
   "metadata": {
    "hidden": true
   },
   "outputs": [],
   "source": [
    "def weighted_mean(x, w):\n",
    "    return np.sum(x * w) / np.sum(w)\n",
    "\n",
    "def weighted_cov(x, y, w):\n",
    "    return np.sum(w * (x - weighted_mean(x, w)) * (y - weighted_mean(y, w))) / np.sum(w)\n",
    "\n",
    "def weighted_corr(x, y, w):\n",
    "    return weighted_cov(x, y, w) / np.sqrt(weighted_cov(x, x, w) * weighted_cov(y, y, w))"
   ]
  },
  {
   "cell_type": "code",
   "execution_count": null,
   "metadata": {
    "hidden": true
   },
   "outputs": [],
   "source": [
    "print('normal corr == ', np.corrcoef(coordinates_df['WHITE Racial Composition'],coordinates_df['BLACK Percent of Charges that were NOT CHANGED']))\n",
    "print('weighted_corr == ', weighted_corr(coordinates_df['WHITE Racial Composition'],coordinates_df['BLACK Percent of Charges that were NOT CHANGED'], coordinates_df['TOTAL Number of Speeding Charges']))"
   ]
  },
  {
   "cell_type": "code",
   "execution_count": null,
   "metadata": {
    "hidden": true
   },
   "outputs": [],
   "source": [
    "#cross-corr table\n",
    "\n",
    "coordinates_df.corr()"
   ]
  },
  {
   "cell_type": "code",
   "execution_count": null,
   "metadata": {
    "hidden": true
   },
   "outputs": [],
   "source": []
  },
  {
   "cell_type": "code",
   "execution_count": null,
   "metadata": {
    "hidden": true
   },
   "outputs": [],
   "source": []
  }
 ],
 "metadata": {
  "kernelspec": {
   "display_name": "Python 3",
   "language": "python",
   "name": "python3"
  },
  "language_info": {
   "codemirror_mode": {
    "name": "ipython",
    "version": 3
   },
   "file_extension": ".py",
   "mimetype": "text/x-python",
   "name": "python",
   "nbconvert_exporter": "python",
   "pygments_lexer": "ipython3",
   "version": "3.7.6"
  },
  "latex_envs": {
   "LaTeX_envs_menu_present": true,
   "autoclose": false,
   "autocomplete": true,
   "bibliofile": "biblio.bib",
   "cite_by": "apalike",
   "current_citInitial": 1,
   "eqLabelWithNumbers": true,
   "eqNumInitial": 1,
   "hotkeys": {
    "equation": "Ctrl-E",
    "itemize": "Ctrl-I"
   },
   "labels_anchors": false,
   "latex_user_defs": false,
   "report_style_numbering": false,
   "user_envs_cfg": false
  },
  "toc": {
   "base_numbering": 1,
   "nav_menu": {
    "height": "208.97px",
    "width": "357.986px"
   },
   "number_sections": true,
   "sideBar": true,
   "skip_h1_title": false,
   "title_cell": "Table of Contents",
   "title_sidebar": "Contents",
   "toc_cell": false,
   "toc_position": {},
   "toc_section_display": true,
   "toc_window_display": false
  },
  "varInspector": {
   "cols": {
    "lenName": 16,
    "lenType": 16,
    "lenVar": 40
   },
   "kernels_config": {
    "python": {
     "delete_cmd_postfix": "",
     "delete_cmd_prefix": "del ",
     "library": "var_list.py",
     "varRefreshCmd": "print(var_dic_list())"
    },
    "r": {
     "delete_cmd_postfix": ") ",
     "delete_cmd_prefix": "rm(",
     "library": "var_list.r",
     "varRefreshCmd": "cat(var_dic_list()) "
    }
   },
   "types_to_exclude": [
    "module",
    "function",
    "builtin_function_or_method",
    "instance",
    "_Feature"
   ],
   "window_display": false
  }
 },
 "nbformat": 4,
 "nbformat_minor": 4
}
